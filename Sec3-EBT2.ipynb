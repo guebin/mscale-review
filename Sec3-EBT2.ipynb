{
 "cells": [
  {
   "cell_type": "code",
   "execution_count": 1,
   "id": "ec71dc63-8036-4318-b4d9-51a639fdc118",
   "metadata": {
    "vscode": {
     "languageId": "r"
    }
   },
   "outputs": [
    {
     "name": "stderr",
     "output_type": "stream",
     "text": [
      "Loading required package: usethis\n",
      "\n",
      "── \u001b[1mAttaching core tidyverse packages\u001b[22m ──────────────────────── tidyverse 2.0.0 ──\n",
      "\u001b[32m✔\u001b[39m \u001b[34mdplyr    \u001b[39m 1.1.4     \u001b[32m✔\u001b[39m \u001b[34mreadr    \u001b[39m 2.1.5\n",
      "\u001b[32m✔\u001b[39m \u001b[34mforcats  \u001b[39m 1.0.0     \u001b[32m✔\u001b[39m \u001b[34mstringr  \u001b[39m 1.5.1\n",
      "\u001b[32m✔\u001b[39m \u001b[34mggplot2  \u001b[39m 3.5.1     \u001b[32m✔\u001b[39m \u001b[34mtibble   \u001b[39m 3.2.1\n",
      "\u001b[32m✔\u001b[39m \u001b[34mlubridate\u001b[39m 1.9.4     \u001b[32m✔\u001b[39m \u001b[34mtidyr    \u001b[39m 1.3.1\n",
      "\u001b[32m✔\u001b[39m \u001b[34mpurrr    \u001b[39m 1.0.4     \n",
      "── \u001b[1mConflicts\u001b[22m ────────────────────────────────────────── tidyverse_conflicts() ──\n",
      "\u001b[31m✖\u001b[39m \u001b[34mdplyr\u001b[39m::\u001b[32mfilter()\u001b[39m masks \u001b[34mstats\u001b[39m::filter()\n",
      "\u001b[31m✖\u001b[39m \u001b[34mdplyr\u001b[39m::\u001b[32mlag()\u001b[39m    masks \u001b[34mstats\u001b[39m::lag()\n",
      "\u001b[36mℹ\u001b[39m Use the conflicted package (\u001b[3m\u001b[34m<http://conflicted.r-lib.org/>\u001b[39m\u001b[23m) to force all conflicts to become errors\n",
      "\n",
      "Attaching package: ‘phonTools’\n",
      "\n",
      "\n",
      "The following object is masked from ‘package:dplyr’:\n",
      "\n",
      "    slice\n",
      "\n",
      "\n",
      "Loading required package: spam\n",
      "\n",
      "Spam version 2.11-1 (2025-01-20) is loaded.\n",
      "Type 'help( Spam)' or 'demo( spam)' for a short introduction \n",
      "and overview of this package.\n",
      "Help for individual functions is also obtained by adding the\n",
      "suffix '.spam' to the function name, e.g. 'help( chol.spam)'.\n",
      "\n",
      "\n",
      "Attaching package: ‘spam’\n",
      "\n",
      "\n",
      "The following objects are masked from ‘package:base’:\n",
      "\n",
      "    backsolve, forwardsolve\n",
      "\n",
      "\n",
      "Loading required package: viridisLite\n",
      "\n",
      "\n",
      "Try help(fields) to get started.\n",
      "\n",
      "Linking to ImageMagick 7.1.1.38\n",
      "Enabled features: cairo, fontconfig, freetype, fftw, heic, rsvg, webp, x11\n",
      "Disabled features: ghostscript, lcms, pango, raw\n",
      "\n"
     ]
    }
   ],
   "source": [
    "library(devtools)\n",
    "#install_github(\"guebin/EBT\",force=TRUE)\n",
    "library(tidyverse)\n",
    "library(ebt)\n",
    "library(wavelets)\n",
    "library(phonTools)\n",
    "library(fields)\n",
    "library(viridis)\n",
    "library(wavScalogram)\n",
    "library(magick)"
   ]
  },
  {
   "cell_type": "code",
   "execution_count": null,
   "id": "865144a2-2197-4a54-88ff-148b01d21ec8",
   "metadata": {
    "vscode": {
     "languageId": "r"
    }
   },
   "outputs": [],
   "source": [
    "data(ecg)\n",
    "f<-as.vector(ecg)\n",
    "t<-seq(0,11.37,length=2048)\n",
    "fs<-180 \n",
    "maxtau=225\n",
    "len<-length(f)\n",
    "ecg_mvmap <- create_maps(f,maxtau = maxtau)\n",
    "v_map<-ecg_mvmap$vmap\n",
    "temp<-spectrogram(f,fs=180,windowlength = 612.5,show=F)$spectrogram\n",
    "spec_rslt <-spectrogram(f,fs=180,windowlength = 612.5,show=F)$spectrogram\n",
    "scalo_rslt <- abs(cwt_wst(f,makefigure=FALSE)$coef)\n",
    "\n",
    "par(mfrow=c(4,1))\n",
    "par(mar=c(4,2.5,2.5,8.5))\n",
    "plot(t,f, main = \"ECG signal\", xlab = \"Time [s]\", ylab = \"Amplitude\",type='l')\n",
    "par(mar=c(4,3.5,2.5,2.5))\n",
    "image.plot(\n",
    "    x=t,y=50:215,z=v_map[1:length(f),50:215],\n",
    "    xlab = \"Time [s]\", ylab = \"Scale\", main = \"Vmap\",\n",
    "    legend.mar=5, \n",
    "    col=viridis(256, option = \"magma\")\n",
    ")\n",
    "par(mar=c(4,3.5,2.5,2.5))\n",
    "image.plot(\n",
    "    x=seq(0,11.37,length=941),y=seq(0,90,length=617),z=spec_rslt[1:941,1:617],\n",
    "    xlab = \"Time [s]\", ylab = \"Frequency (Hz)\", main = \"Spectrogram\",\n",
    "    col=viridis(256, option = \"magma\")\n",
    ")\n",
    "par(mar=c(4,3.5,2.5,2.5))\n",
    "image.plot(\n",
    "    x=t,z=scalo_rslt,\n",
    "    xlab = \"Time [s]\", ylab = \"Scale\", main = \"Scalogram\",\n",
    "    col = colorRampPalette(c(\"purple\", \"green\"))(256)\n",
    ")\n",
    "par(mfrow=c(1,1))"
   ]
  }
 ],
 "metadata": {
  "kernelspec": {
   "display_name": "R",
   "language": "R",
   "name": "ir"
  },
  "language_info": {
   "codemirror_mode": "r",
   "file_extension": ".r",
   "mimetype": "text/x-r-source",
   "name": "R",
   "pygments_lexer": "r",
   "version": "4.4.2"
  }
 },
 "nbformat": 4,
 "nbformat_minor": 5
}
